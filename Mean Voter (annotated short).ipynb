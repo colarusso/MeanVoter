{
 "cells": [
  {
   "cell_type": "markdown",
   "metadata": {},
   "source": [
    "*This notebook is part of a [three-part series](https://lawyerist.com/124089/hello-world-attorneys-learn-code/) on learning to code. If you haven't already, start by reading the accompanying [blog posts](https://lawyerist.com/?p=127093). This notebook is meant to supplement post number three--[Build a Bot; Banish FOMO](https://lawyerist.com/?p=127093).*\n",
    "\n",
    "## Install libraries\n",
    "\n",
    "If you haven't already, you may need to install some dependencies. On the command line, run the following to install/update gspread, oauth2client, PyOpenSSL, and python-twitter.\n",
    "```\n",
    "pip install gspread\n",
    "pip install --upgrade oauth2client\n",
    "pip install PyOpenSSL\n",
    "pip install python-twitter\n",
    "```\n",
    "Library installs are one and done. So after doing this once, you should be all set. \n",
    "\n",
    "## Import modules and set variables\n",
    "\n",
    "Now we're getting into the bot's code. This is what will run every time your bot is called. To make sure it behaves as expected, replace the placeholder values found below in the `document_key`, `credentials`, `consumer_key`, `consumer_secret`, `access_token_key`, and `access_token_secret` variables with relevant values (e.g., your access credentials). Once you've done that, run the code in the following cell. If everything works, you shouldn't see any errors.\n",
    "\n",
    "Some of this code should look familiar as you set up Google credentials in the last homework assignment. In fact, when filling in your Google credentials, you should be using the .json file that you used last time. You will, however, need to create a new Google Sheet (same instructions as [last time](https://lawyerist.com/126074/online-forms-meet-local-document-automation-cut-and-paste-coding/)). You **MUST** add a first row with headings. If you don't, the below code won't work. In this example, just make four columns filled with zeros. Also, delete rows 2-999. This is because the code below appends values to the end of your sheet. So if you fail to remove rows 2-999, values will be appended to row 1000. Additionally, it looks at the last row of the sheet for your old values. So if you fail to delete 2-999, instead of seeing your row of zeros, it will look at the blank row 999.\n",
    "\n",
    "As for a Twitter account and Twitter credentials, follow the instruction in [this post](https://lawyerist.com/?p=127093). \n",
    "\n",
    "*NOTE: You should be reading all of the comments (i.e., text following a #)*"
   ]
  },
  {
   "cell_type": "code",
   "execution_count": null,
   "metadata": {
    "collapsed": false
   },
   "outputs": [],
   "source": [
    "# Load the module for visiting and reading websites.\n",
    "import urllib.request\n",
    "# Load the module for running regular expressions (regex).\n",
    "import re \n",
    "# Load the module for date and time stuff.\n",
    "import datetime\n",
    "# Define the variable now as equal to the current date and time.\n",
    "now = datetime.datetime.now()\n",
    "\n",
    "# Load the module for accessing Google Sheets.\n",
    "import gspread\n",
    "# Load the module needed for securely communicating with Google Sheets.\n",
    "from oauth2client.service_account import ServiceAccountCredentials\n",
    "# The scope for your access credentials\n",
    "scope = ['https://spreadsheets.google.com/feeds']\n",
    "\n",
    "# Your spreadsheet's ID\n",
    "document_key = \"[YOUR DOCUMENT ID/KEY]\"\n",
    "# Your Google project's .json key\n",
    "credentials = ServiceAccountCredentials.from_json_keyfile_name('[LOCATION OF JSON FILE]', scope)\n",
    "\n",
    "# Use your credentials to authorize yourself.\n",
    "gc = gspread.authorize(credentials)\n",
    "# Open up the Sheet with the defined ID.\n",
    "wks = gc.open_by_key(document_key)\n",
    "\n",
    "#########################################\n",
    "#\n",
    "#  NOTE: The name of the sheet you are \n",
    "#  trying to access should be in the \n",
    "#  parenthetical below (e.g., Data). By\n",
    "#  Default this is probably \"Sheet1\".\n",
    "#\n",
    "#########################################\n",
    "worksheet = wks.worksheet(\"Sheet1\")\n",
    "\n",
    "# Count the number of rows in your Sheet &\n",
    "# resize to remove blank rows.\n",
    "worksheet.resize(worksheet.row_count)\n",
    "\n",
    "# Import the relevant Twitter libraries so you can use Twitter.\n",
    "import twitter\n",
    "from twitter import TwitterError\n",
    "\n",
    "# Set you Twitter API credentials.\n",
    "api = twitter.Api(consumer_key='[YOUR KEY]',\n",
    "                  consumer_secret='[YOUR SECRET]',\n",
    "                  access_token_key='[TOKEN KEY]',\n",
    "                  access_token_secret='[TOKEN SECRET]')\n",
    "\n",
    "# Set the URLs you want to scrape.\n",
    "url_1 = \"http://election.princeton.edu/2012/09/29/the-short-term-presidential-predictor/\"\n",
    "url_2 = \"https://www.betfairpredicts.com/politics\"\n",
    "\n",
    "print (\"So far, so good.\")"
   ]
  },
  {
   "cell_type": "markdown",
   "metadata": {},
   "source": [
    "## Read the contents of your first webpage\n",
    "\n",
    "When you run the next cell, your program will visit the first URL you defined above. It will then print out that page's HTML. In this example, we'll be looking at the Princeton Election Consortium's [short term predictor](http://election.princeton.edu/2012/09/29/the-short-term-presidential-predictor/).  "
   ]
  },
  {
   "cell_type": "code",
   "execution_count": null,
   "metadata": {
    "collapsed": false,
    "scrolled": false
   },
   "outputs": [],
   "source": [
    "p_1 = urllib.request.build_opener(urllib.request.HTTPCookieProcessor).open(url_1).read()\n",
    "print(p_1)"
   ]
  },
  {
   "cell_type": "markdown",
   "metadata": {},
   "source": [
    "## Parse the site's contents\n",
    "\n",
    "Scan the above HTML for the content you are trying to extract. In this case, I'm looking for the text following \"Bayesian \" and before \"%\". Cut and paste the HTML above into the TEST STRING box over at [Regex 101](https://regex101.com/) and craft a regex that captures your desired content. I like to include a little of the HTML as well. So I went with: \n",
    "\n",
    "`/the-short-term-presidential-predictor/\">Bayesian\\s*(.*)\\%`\n",
    "\n",
    "Remember the parenthetical is the group your pulling out. Once you have a working regex, plug it into the code below, and run the cell. If it worked, you'll see you scraped data as an output. In this example, it should be a number representing the current chance Clinton will win the 2016 election. "
   ]
  },
  {
   "cell_type": "code",
   "execution_count": null,
   "metadata": {
    "collapsed": false
   },
   "outputs": [],
   "source": [
    "res_1 = re.search(b'/the-short-term-presidential-predictor/\">Bayesian\\s*(.*)\\%',p_1)\n",
    "print(res_1.group(1).decode('UTF-8'))"
   ]
  },
  {
   "cell_type": "markdown",
   "metadata": {},
   "source": [
    "## Read the contents of your second webpage\n",
    "\n",
    "Same deal as above, but now we're looking at your second URL. "
   ]
  },
  {
   "cell_type": "code",
   "execution_count": null,
   "metadata": {
    "collapsed": false
   },
   "outputs": [],
   "source": [
    "p_2 = urllib.request.build_opener(urllib.request.HTTPCookieProcessor).open(url_2).read()\n",
    "print(p_2)"
   ]
  },
  {
   "cell_type": "markdown",
   "metadata": {},
   "source": [
    "## Parse the site's contents\n",
    "\n",
    "Again, the same as above, but with a new regex on a new page."
   ]
  },
  {
   "cell_type": "code",
   "execution_count": null,
   "metadata": {
    "collapsed": false
   },
   "outputs": [],
   "source": [
    "res_2 = re.search(b'107373419\", \"percent_value\": (\\d*\\.\\d*), \"slug\": \"hillary',p_2)  \n",
    "print(res_2.group(1).decode('UTF-8'))"
   ]
  },
  {
   "cell_type": "markdown",
   "metadata": {},
   "source": [
    "## Average the values and Tweet out updates\n",
    "\n",
    "Now we're going to take the values you found above and do something with them. In this case, we want to average them. If all you want to do is Tweet out the above values, you can delete that bit. The newest thing you'll be seeing in this code is the If statement. In Python, if you type `if [some evaluation]:` then the code directly below that statement and indented once will run only if that evaluation is true. For example:"
   ]
  },
  {
   "cell_type": "code",
   "execution_count": null,
   "metadata": {
    "collapsed": false
   },
   "outputs": [],
   "source": [
    "# The If statment below says: If the variables res_1 and res_2 actually exist, do what follows.\n",
    "if res_1 and res_2: \n",
    "    # Make sure res_1 is in a format we can read (that's the \"decode\" part), make sure its treated as a number  \n",
    "    # (that's the \"float\" part). Round the number (that's the \"round\" part) and set the new variable \n",
    "    # output_1 equal to the rounded number.\n",
    "    output_1 = round(float(res_1.group(1).decode('UTF-8')))\n",
    "    # Do the same thing as above but for res_2\n",
    "    output_2 = round(float(res_2.group(1).decode('UTF-8')))\n",
    "    # Average output_1 and Output_2. Then store the value in the variable named \"average.\"\n",
    "    average = round((float(output_1) + float(output_2))/2)\n",
    "    \n",
    "    # Print out the old values stored in your sheet and the new values pulled from your pages\n",
    "    print(\"%s, %s, %s | %s\"%(worksheet.row_values(worksheet.row_count)[1],worksheet.row_values(worksheet.row_count)[2],worksheet.row_values(worksheet.row_count)[3],worksheet.row_values(worksheet.row_count)[2]))\n",
    "    print(\"%s, %s, %s | %s\"%(average,output_1,output_2,now))"
   ]
  },
  {
   "cell_type": "markdown",
   "metadata": {},
   "source": [
    "Note: The first time you run the above code, the first row will be empty as nothing has yet to be stored in your sheet.\n",
    "\n",
    "## Post to Twitter and Save to Google"
   ]
  },
  {
   "cell_type": "code",
   "execution_count": null,
   "metadata": {
    "collapsed": false
   },
   "outputs": [],
   "source": [
    "if res_1 and res_2: \n",
    "    # Again, the above tells the program to continue with what follows only if res_1 and res_2 exist\n",
    "    \n",
    "    if (float(worksheet.row_values(worksheet.row_count)[1]) != output_1) or (float(worksheet.row_values(worksheet.row_count)[2]) != output_2):\n",
    "        # The above If statment, says to continue only of the old sheet vales and \n",
    "        # the new pulled values are not equal (!=) to eachother. \n",
    "        \n",
    "        if (float(worksheet.row_values(worksheet.row_count)[1]) != output_2):\n",
    "            # The above If statment says to continue only if the first value is \n",
    "            # different from the last version stored in the sheet.\n",
    "            \n",
    "            if float(worksheet.row_values(worksheet.row_count)[1]) > output_1:\n",
    "                # If the old value is bigger than the new value,\n",
    "                # set direction equal to \"down.\"\n",
    "                direction = \"down\"\n",
    "            else:\n",
    "                # If the old value is smaller than the new value,\n",
    "                # set direction equal to \"up.\"\n",
    "                direction = \"up\"\n",
    "                \n",
    "            # Go ahead and tweet out the update. Here you need to know about a Twitter API limitation.\n",
    "            # Twitter will not Tweet the same tweet a second time if it is too close to the first instance.\n",
    "            # In such cases, it will throw an error. The `try:` and `except TwitterError:` constructions are\n",
    "            # similar to If statements. However, they will try the first block of code first, and only try \n",
    "            # the second block if it runs into a Twitter error. Here, the second try tweaks the language\n",
    "            # just enough that it isn't a duplicate Tweet.\n",
    "            try:\n",
    "                # Post to Twitter including the old and new values and a statment about the direction of change.\n",
    "                status = api.PostUpdate('.@Princeton Election Consortium puts Clinton\\'s chance of winning at %s%% (%s from %s%%). %s'%(output_1,direction,worksheet.row_values(worksheet.row_count)[1],url_1))\n",
    "                print(status.text)\n",
    "            except TwitterError:\n",
    "                # Post to Twitter including the old and new values and a statment about the direction of change.\n",
    "                status = api.PostUpdate('.@Princeton Election Consortium pegs Clinton\\'s chance of winning at %s%% (%s from %s%%). %s'%(output_3,direction,worksheet.row_values(worksheet.row_count)[3],url_3))\n",
    "                print(status.text)\n",
    "\n",
    "        # What follows is effctivly the above but for the second value.         \n",
    "        if ((float(worksheet.row_values(worksheet.row_count)[2]) != output_2)):\n",
    "\n",
    "            if float(worksheet.row_values(worksheet.row_count)[2]) > output_2: \n",
    "                direction = \"down\"\n",
    "            else:\n",
    "                direction = \"up\"\n",
    "            try:\n",
    "                status = api.PostUpdate('.@BetfairUSA puts Clinton\\'s chance of winning at %s%% (%s from %s%%). %s'%(output_2,direction,worksheet.row_values(worksheet.row_count)[2],url_2))\n",
    "                print(status.text)\n",
    "            except TwitterError:\n",
    "                status = api.PostUpdate('.@BetfairUSA pegs Clinton\\'s chance of winning at %s%% (%s from %s%%). %s'%(output_2,direction,worksheet.row_values(worksheet.row_count)[2],url_2))\n",
    "                print(status.text)\n",
    "\n",
    "        # NOTE: BetfairUSA moves around a lot and in so doing it tends to repeat itself. \n",
    "        # So in the actual code behind @meanvoter, I had to add a few more nested try and except blocks\n",
    "                \n",
    "        # Below we introduce an If statment with an Else. \n",
    "        # If the old average and new average are not the same the code indented below the \"if\" will run.\n",
    "        # If that isn't true (i.e., if they are the same), the code below the \"else\" will run.\n",
    "        if (float(worksheet.row_values(worksheet.row_count)[3]) != average):\n",
    "            \n",
    "            # Again we figure out the direction of change for inclusion in our Tweet.\n",
    "            if float(worksheet.row_values(worksheet.row_count)[3]) > average: \n",
    "                direction = \"down\"\n",
    "            else:\n",
    "                direction = \"up\"\n",
    "            try:\n",
    "                status = api.PostUpdate('The 6-forecast average puts Clinton\\'s chance of winning at %s%% (%s from %s%%). http://bit.ly/meanvoter'%(average,direction,worksheet.row_values(worksheet.row_count)[3]))\n",
    "                print(status.text)\n",
    "            except TwitterError:\n",
    "                status = api.PostUpdate('The 6-forecast average pegs Clinton\\'s chance of winning at %s%% (%s from %s%%). http://bit.ly/meanvoter'%(average,direction,worksheet.row_values(worksheet.row_count)[3]))\n",
    "                print(status.text)\n",
    "        else:\n",
    "            try:\n",
    "                status = api.PostUpdate('The 6-forecast average still puts Clinton\\'s chance of winning at %s%%. http://bit.ly/meanvoter'%(average))\n",
    "                print(status.text)\n",
    "            except TwitterError:\n",
    "                status = api.PostUpdate('The 6-forecast average still places Clinton\\'s chance of winning at %s%%. http://bit.ly/meanvoter'%(average))\n",
    "                print(status.text)\n",
    "\n",
    "        # NOTE: In the actual code behind @meanvoter, I had to add a few more nested try and except blocks\n",
    "        # for the average tweet as well.\n",
    "                \n",
    "        worksheet.append_row([now,output_1,output_2,average])"
   ]
  },
  {
   "cell_type": "markdown",
   "metadata": {},
   "source": [
    "If you're looking just to tweet out single bits of info, just strip away all the excess, cutting lines and running the code until you get it to work. \n",
    "\n",
    "Good luck!"
   ]
  }
 ],
 "metadata": {
  "kernelspec": {
   "display_name": "Python 3",
   "language": "python",
   "name": "python3"
  },
  "language_info": {
   "codemirror_mode": {
    "name": "ipython",
    "version": 3
   },
   "file_extension": ".py",
   "mimetype": "text/x-python",
   "name": "python",
   "nbconvert_exporter": "python",
   "pygments_lexer": "ipython3",
   "version": "3.5.2"
  }
 },
 "nbformat": 4,
 "nbformat_minor": 0
}
